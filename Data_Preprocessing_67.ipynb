{
  "cells": [
    {
      "cell_type": "markdown",
      "metadata": {
        "id": "view-in-github",
        "colab_type": "text"
      },
      "source": [
        "<a href=\"https://colab.research.google.com/github/Nithinan-Srikongphan/Data-Warehouse-/blob/main/Data_Preprocessing_67.ipynb\" target=\"_parent\"><img src=\"https://colab.research.google.com/assets/colab-badge.svg\" alt=\"Open In Colab\"/></a>"
      ]
    },
    {
      "cell_type": "markdown",
      "id": "2e4a7b28",
      "metadata": {
        "id": "2e4a7b28"
      },
      "source": [
        "# Data Preprocessing\n",
        "### Data Preprocessing, Data Visualization, Data Analysis"
      ]
    },
    {
      "cell_type": "markdown",
      "id": "6525cabe",
      "metadata": {
        "id": "6525cabe"
      },
      "source": [
        "ชื่อ:\n",
        "นิธินันต์ ศรีกงพาน 653020572-4"
      ]
    },
    {
      "cell_type": "markdown",
      "id": "475c076b",
      "metadata": {
        "id": "475c076b"
      },
      "source": [
        "กำหนดส่ง: อาทิตย์ 8 กันยายน 2567 (NO EXTENSION!)"
      ]
    },
    {
      "cell_type": "markdown",
      "id": "6d7668b9",
      "metadata": {
        "id": "6d7668b9"
      },
      "source": [
        "**ผลที่คาดหวังจากการทำงานนี้**\n",
        "* สามารถใช้ Python ในการอ่านข้อมูล\n",
        "* จัดการกับข้อมูลเบื้องต้นก่อนนำไปวิเคราะห์\n",
        "* สามารถวิเคราะห์ข้อมูลเบื้องต้นด้วยการสร้าง Data Visualization และ Pivot Tables\n",
        "\n",
        "**สิ่งที่ต้องมีในการทำงานนี้**\n",
        "* มีการติดตั้ง Python ในเครื่องคอมพิวเตอร์\n",
        "\n",
        "**Python libraries ที่ใช้ในงานนี้:**\n",
        "* Pandas (pandas.pydata.org)\n",
        "* Matplotlib (matplotlib.org)\n",
        "\n",
        "** NOTE **\n",
        "* อย่าลืมบันทึกงานที่ทำในโน้ตบุ๊คนี้เป็นประจำขณะทำงาน มิเช่นนั้นงานที่ทำอยู่อาจสูญหายได้\n",
        "* **เริ่มทำแต่เนิ่น ๆ อย่ารอที่จะทำก่อนส่ง เพราะจะทำไม่เสร็จ เนื่องจากปัญหามากมายที่จะเกิดขึ้นระหว่างการทำงาน และอาจารย์ไม่รับปรึกษาในคืนก่อนส่ง**\n",
        "----------------------"
      ]
    },
    {
      "cell_type": "code",
      "execution_count": 48,
      "id": "76bc1ee7",
      "metadata": {
        "colab": {
          "base_uri": "https://localhost:8080/"
        },
        "id": "76bc1ee7",
        "outputId": "5dfe1616-b611-41b3-c659-07ecb6809be8"
      },
      "outputs": [
        {
          "output_type": "stream",
          "name": "stdout",
          "text": [
            "Requirement already satisfied: pandas in /usr/local/lib/python3.10/dist-packages (2.1.4)\n",
            "Requirement already satisfied: xlrd in /usr/local/lib/python3.10/dist-packages (2.0.1)\n",
            "Requirement already satisfied: numpy<2,>=1.22.4 in /usr/local/lib/python3.10/dist-packages (from pandas) (1.26.4)\n",
            "Requirement already satisfied: python-dateutil>=2.8.2 in /usr/local/lib/python3.10/dist-packages (from pandas) (2.8.2)\n",
            "Requirement already satisfied: pytz>=2020.1 in /usr/local/lib/python3.10/dist-packages (from pandas) (2024.1)\n",
            "Requirement already satisfied: tzdata>=2022.1 in /usr/local/lib/python3.10/dist-packages (from pandas) (2024.1)\n",
            "Requirement already satisfied: six>=1.5 in /usr/local/lib/python3.10/dist-packages (from python-dateutil>=2.8.2->pandas) (1.16.0)\n"
          ]
        }
      ],
      "source": [
        "from matplotlib import pyplot as plt\n",
        "import numpy as np\n",
        "import pandas as pd\n",
        "!pip install pandas xlrd"
      ]
    },
    {
      "cell_type": "code",
      "execution_count": 49,
      "id": "0UBoaQBpNK9N",
      "metadata": {
        "colab": {
          "base_uri": "https://localhost:8080/"
        },
        "id": "0UBoaQBpNK9N",
        "outputId": "04d7ffe3-ca3b-476c-969d-1353a21c51c8"
      },
      "outputs": [
        {
          "output_type": "stream",
          "name": "stdout",
          "text": [
            "Drive already mounted at /content/drive; to attempt to forcibly remount, call drive.mount(\"/content/drive\", force_remount=True).\n"
          ]
        }
      ],
      "source": [
        "# reading data sets from Google Drive\n",
        "from google.colab import drive\n",
        "drive.mount('/content/drive')"
      ]
    },
    {
      "cell_type": "markdown",
      "id": "3dc6dd2d",
      "metadata": {
        "id": "3dc6dd2d"
      },
      "source": [
        "## Titanic Data Set\n",
        "* (10 points) ข้อมูล Titanic เป็นหนึ่งในชุดข้อมูลที่ได้รับความนิยมมากที่สุดในแวดวงการเรียนรู้การวิเคราะห์ข้อมูลและการสร้างโมเดลทางสถิติหรือการเรียนรู้ของเครื่อง (Machine Learning) ชุดข้อมูลนี้มาจากเหตุการณ์เรือ Titanic ซึ่งเป็นเรือสำราญที่ใหญ่ที่สุดในยุคนั้น และเกิดอับปางในปี 1912 ทำให้มีผู้เสียชีวิตจำนวนมาก\n",
        "    ข้อมูลนี้ประกอบด้วยรายละเอียดของผู้โดยสารบนเรือ Titanic เช่น อายุ เพศ ชั้นที่นั่ง (Pclass) ค่าโดยสาร (Fare) จำนวนญาติพี่น้องหรือคู่สมรสบนเรือ (SibSp) และสถานที่ขึ้นเรือ (Embarked) โดยมีเป้าหมายหลักในการวิเคราะห์หรือการสร้างโมเดลคือการทำนายว่าผู้โดยสารคนนั้นจะรอดชีวิต (Survived) หรือไม่จากการอับปางของเรือ Titanic \\\n",
        "    https://www.kaggle.com/datasets/vinicius150987/titanic3/data"
      ]
    },
    {
      "cell_type": "markdown",
      "id": "Z6Weqf0SNOBR",
      "metadata": {
        "id": "Z6Weqf0SNOBR"
      },
      "source": [
        "<center><img src=\"https://www.pigeonforgetncabins.com/wp-content/uploads/2015/06/experience-at-titanic-pigeon-forge.jpg\" alt=\"titanic\" width=\"400\"/></center>"
      ]
    },
    {
      "cell_type": "code",
      "execution_count": 50,
      "id": "qfVvVKpHGz_X",
      "metadata": {
        "colab": {
          "base_uri": "https://localhost:8080/"
        },
        "id": "qfVvVKpHGz_X",
        "outputId": "24fd9fb5-844d-42b9-cb3a-e4f8681fa93b"
      },
      "outputs": [
        {
          "output_type": "stream",
          "name": "stdout",
          "text": [
            "Drive already mounted at /content/drive; to attempt to forcibly remount, call drive.mount(\"/content/drive\", force_remount=True).\n",
            "   pclass  survived                                             name     sex  \\\n",
            "0       1         1                    Allen, Miss. Elisabeth Walton  female   \n",
            "1       1         1                   Allison, Master. Hudson Trevor    male   \n",
            "2       1         0                     Allison, Miss. Helen Loraine  female   \n",
            "3       1         0             Allison, Mr. Hudson Joshua Creighton    male   \n",
            "4       1         0  Allison, Mrs. Hudson J C (Bessie Waldo Daniels)  female   \n",
            "\n",
            "       age  sibsp  parch  ticket      fare    cabin embarked boat   body  \\\n",
            "0  29.0000      0      0   24160  211.3375       B5        S    2    NaN   \n",
            "1   0.9167      1      2  113781  151.5500  C22 C26        S   11    NaN   \n",
            "2   2.0000      1      2  113781  151.5500  C22 C26        S  NaN    NaN   \n",
            "3  30.0000      1      2  113781  151.5500  C22 C26        S  NaN  135.0   \n",
            "4  25.0000      1      2  113781  151.5500  C22 C26        S  NaN    NaN   \n",
            "\n",
            "                         home.dest  \n",
            "0                     St Louis, MO  \n",
            "1  Montreal, PQ / Chesterville, ON  \n",
            "2  Montreal, PQ / Chesterville, ON  \n",
            "3  Montreal, PQ / Chesterville, ON  \n",
            "4  Montreal, PQ / Chesterville, ON  \n"
          ]
        }
      ],
      "source": [
        "#วิธีที่1 อ่านจากไฟล์ที่เซฟใน Google Drive\n",
        "from google.colab import drive\n",
        "drive.mount('/content/drive')\n",
        "\n",
        "# เข้าถึงไฟล์ใน Google Drive\n",
        "file_path = '/content/drive/My Drive/Data_Warehouse&BDA/titanic3.xls'\n",
        "\n",
        "# อ่านไฟล์ Excel\n",
        "import pandas as pd\n",
        "df = pd.read_excel(file_path)\n",
        "print(df.head())"
      ]
    },
    {
      "cell_type": "code",
      "execution_count": 51,
      "id": "b7b59426",
      "metadata": {
        "colab": {
          "base_uri": "https://localhost:8080/"
        },
        "id": "b7b59426",
        "outputId": "b53a2bc2-8811-415d-82be-9caeb6d37d5e",
        "scrolled": true
      },
      "outputs": [
        {
          "output_type": "stream",
          "name": "stdout",
          "text": [
            "   pclass  survived                                             name     sex  \\\n",
            "0       1         1                    Allen, Miss. Elisabeth Walton  female   \n",
            "1       1         1                   Allison, Master. Hudson Trevor    male   \n",
            "2       1         0                     Allison, Miss. Helen Loraine  female   \n",
            "3       1         0             Allison, Mr. Hudson Joshua Creighton    male   \n",
            "4       1         0  Allison, Mrs. Hudson J C (Bessie Waldo Daniels)  female   \n",
            "\n",
            "       age  sibsp  parch  ticket      fare    cabin embarked boat   body  \\\n",
            "0  29.0000      0      0   24160  211.3375       B5        S    2    NaN   \n",
            "1   0.9167      1      2  113781  151.5500  C22 C26        S   11    NaN   \n",
            "2   2.0000      1      2  113781  151.5500  C22 C26        S  NaN    NaN   \n",
            "3  30.0000      1      2  113781  151.5500  C22 C26        S  NaN  135.0   \n",
            "4  25.0000      1      2  113781  151.5500  C22 C26        S  NaN    NaN   \n",
            "\n",
            "                         home.dest  \n",
            "0                     St Louis, MO  \n",
            "1  Montreal, PQ / Chesterville, ON  \n",
            "2  Montreal, PQ / Chesterville, ON  \n",
            "3  Montreal, PQ / Chesterville, ON  \n",
            "4  Montreal, PQ / Chesterville, ON  \n"
          ]
        }
      ],
      "source": [
        "#วิธีที่2 นำเข้าไฟล์แล้วอ่านดื้อๆเลย\n",
        "# อ่านไฟล์ Excel\n",
        "file_path = 'titanic3.xls'\n",
        "df = pd.read_excel(file_path)\n",
        "\n",
        "# แสดงข้อมูลตัวอย่าง 5 แถวแรก\n",
        "print(df.head())"
      ]
    },
    {
      "cell_type": "code",
      "execution_count": 52,
      "id": "oLcHNoDjInQy",
      "metadata": {
        "colab": {
          "base_uri": "https://localhost:8080/"
        },
        "id": "oLcHNoDjInQy",
        "outputId": "630a7498-e0f9-4f0a-a6e5-8500147d128c"
      },
      "outputs": [
        {
          "output_type": "stream",
          "name": "stdout",
          "text": [
            "   pclass  survived                                             name     sex  \\\n",
            "0       1         1                    Allen, Miss. Elisabeth Walton  female   \n",
            "1       1         1                   Allison, Master. Hudson Trevor    male   \n",
            "2       1         0                     Allison, Miss. Helen Loraine  female   \n",
            "3       1         0             Allison, Mr. Hudson Joshua Creighton    male   \n",
            "4       1         0  Allison, Mrs. Hudson J C (Bessie Waldo Daniels)  female   \n",
            "\n",
            "       age  sibsp  parch  ticket      fare    cabin embarked boat   body  \\\n",
            "0  29.0000      0      0   24160  211.3375       B5        S    2    NaN   \n",
            "1   0.9167      1      2  113781  151.5500  C22 C26        S   11    NaN   \n",
            "2   2.0000      1      2  113781  151.5500  C22 C26        S  NaN    NaN   \n",
            "3  30.0000      1      2  113781  151.5500  C22 C26        S  NaN  135.0   \n",
            "4  25.0000      1      2  113781  151.5500  C22 C26        S  NaN    NaN   \n",
            "\n",
            "                         home.dest  \n",
            "0                     St Louis, MO  \n",
            "1  Montreal, PQ / Chesterville, ON  \n",
            "2  Montreal, PQ / Chesterville, ON  \n",
            "3  Montreal, PQ / Chesterville, ON  \n",
            "4  Montreal, PQ / Chesterville, ON  \n"
          ]
        }
      ],
      "source": [
        "# อ่านไฟล์ Excel และเก็บข้อมูลในตัวแปร titanic\n",
        "titanic = pd.read_excel(file_path)\n",
        "\n",
        "# ตรวจสอบข้อมูล 5 แถวแรก\n",
        "print(titanic.head())"
      ]
    },
    {
      "cell_type": "code",
      "execution_count": 53,
      "id": "af90f726",
      "metadata": {
        "colab": {
          "base_uri": "https://localhost:8080/",
          "height": 423
        },
        "id": "af90f726",
        "outputId": "08073d94-f337-4f9e-c8a2-9dd8160a9d5f",
        "scrolled": false
      },
      "outputs": [
        {
          "output_type": "execute_result",
          "data": {
            "text/plain": [
              "      pclass  survived                                             name  \\\n",
              "0          1         1                    Allen, Miss. Elisabeth Walton   \n",
              "1          1         1                   Allison, Master. Hudson Trevor   \n",
              "2          1         0                     Allison, Miss. Helen Loraine   \n",
              "3          1         0             Allison, Mr. Hudson Joshua Creighton   \n",
              "4          1         0  Allison, Mrs. Hudson J C (Bessie Waldo Daniels)   \n",
              "...      ...       ...                                              ...   \n",
              "1304       3         0                             Zabour, Miss. Hileni   \n",
              "1305       3         0                            Zabour, Miss. Thamine   \n",
              "1306       3         0                        Zakarian, Mr. Mapriededer   \n",
              "1307       3         0                              Zakarian, Mr. Ortin   \n",
              "1308       3         0                               Zimmerman, Mr. Leo   \n",
              "\n",
              "         sex      age  sibsp  parch  ticket      fare    cabin embarked boat  \\\n",
              "0     female  29.0000      0      0   24160  211.3375       B5        S    2   \n",
              "1       male   0.9167      1      2  113781  151.5500  C22 C26        S   11   \n",
              "2     female   2.0000      1      2  113781  151.5500  C22 C26        S  NaN   \n",
              "3       male  30.0000      1      2  113781  151.5500  C22 C26        S  NaN   \n",
              "4     female  25.0000      1      2  113781  151.5500  C22 C26        S  NaN   \n",
              "...      ...      ...    ...    ...     ...       ...      ...      ...  ...   \n",
              "1304  female  14.5000      1      0    2665   14.4542      NaN        C  NaN   \n",
              "1305  female      NaN      1      0    2665   14.4542      NaN        C  NaN   \n",
              "1306    male  26.5000      0      0    2656    7.2250      NaN        C  NaN   \n",
              "1307    male  27.0000      0      0    2670    7.2250      NaN        C  NaN   \n",
              "1308    male  29.0000      0      0  315082    7.8750      NaN        S  NaN   \n",
              "\n",
              "       body                        home.dest  \n",
              "0       NaN                     St Louis, MO  \n",
              "1       NaN  Montreal, PQ / Chesterville, ON  \n",
              "2       NaN  Montreal, PQ / Chesterville, ON  \n",
              "3     135.0  Montreal, PQ / Chesterville, ON  \n",
              "4       NaN  Montreal, PQ / Chesterville, ON  \n",
              "...     ...                              ...  \n",
              "1304  328.0                              NaN  \n",
              "1305    NaN                              NaN  \n",
              "1306  304.0                              NaN  \n",
              "1307    NaN                              NaN  \n",
              "1308    NaN                              NaN  \n",
              "\n",
              "[1309 rows x 14 columns]"
            ],
            "text/html": [
              "\n",
              "  <div id=\"df-6ce79dad-f7cb-46bd-a2ce-be535275ad88\" class=\"colab-df-container\">\n",
              "    <div>\n",
              "<style scoped>\n",
              "    .dataframe tbody tr th:only-of-type {\n",
              "        vertical-align: middle;\n",
              "    }\n",
              "\n",
              "    .dataframe tbody tr th {\n",
              "        vertical-align: top;\n",
              "    }\n",
              "\n",
              "    .dataframe thead th {\n",
              "        text-align: right;\n",
              "    }\n",
              "</style>\n",
              "<table border=\"1\" class=\"dataframe\">\n",
              "  <thead>\n",
              "    <tr style=\"text-align: right;\">\n",
              "      <th></th>\n",
              "      <th>pclass</th>\n",
              "      <th>survived</th>\n",
              "      <th>name</th>\n",
              "      <th>sex</th>\n",
              "      <th>age</th>\n",
              "      <th>sibsp</th>\n",
              "      <th>parch</th>\n",
              "      <th>ticket</th>\n",
              "      <th>fare</th>\n",
              "      <th>cabin</th>\n",
              "      <th>embarked</th>\n",
              "      <th>boat</th>\n",
              "      <th>body</th>\n",
              "      <th>home.dest</th>\n",
              "    </tr>\n",
              "  </thead>\n",
              "  <tbody>\n",
              "    <tr>\n",
              "      <th>0</th>\n",
              "      <td>1</td>\n",
              "      <td>1</td>\n",
              "      <td>Allen, Miss. Elisabeth Walton</td>\n",
              "      <td>female</td>\n",
              "      <td>29.0000</td>\n",
              "      <td>0</td>\n",
              "      <td>0</td>\n",
              "      <td>24160</td>\n",
              "      <td>211.3375</td>\n",
              "      <td>B5</td>\n",
              "      <td>S</td>\n",
              "      <td>2</td>\n",
              "      <td>NaN</td>\n",
              "      <td>St Louis, MO</td>\n",
              "    </tr>\n",
              "    <tr>\n",
              "      <th>1</th>\n",
              "      <td>1</td>\n",
              "      <td>1</td>\n",
              "      <td>Allison, Master. Hudson Trevor</td>\n",
              "      <td>male</td>\n",
              "      <td>0.9167</td>\n",
              "      <td>1</td>\n",
              "      <td>2</td>\n",
              "      <td>113781</td>\n",
              "      <td>151.5500</td>\n",
              "      <td>C22 C26</td>\n",
              "      <td>S</td>\n",
              "      <td>11</td>\n",
              "      <td>NaN</td>\n",
              "      <td>Montreal, PQ / Chesterville, ON</td>\n",
              "    </tr>\n",
              "    <tr>\n",
              "      <th>2</th>\n",
              "      <td>1</td>\n",
              "      <td>0</td>\n",
              "      <td>Allison, Miss. Helen Loraine</td>\n",
              "      <td>female</td>\n",
              "      <td>2.0000</td>\n",
              "      <td>1</td>\n",
              "      <td>2</td>\n",
              "      <td>113781</td>\n",
              "      <td>151.5500</td>\n",
              "      <td>C22 C26</td>\n",
              "      <td>S</td>\n",
              "      <td>NaN</td>\n",
              "      <td>NaN</td>\n",
              "      <td>Montreal, PQ / Chesterville, ON</td>\n",
              "    </tr>\n",
              "    <tr>\n",
              "      <th>3</th>\n",
              "      <td>1</td>\n",
              "      <td>0</td>\n",
              "      <td>Allison, Mr. Hudson Joshua Creighton</td>\n",
              "      <td>male</td>\n",
              "      <td>30.0000</td>\n",
              "      <td>1</td>\n",
              "      <td>2</td>\n",
              "      <td>113781</td>\n",
              "      <td>151.5500</td>\n",
              "      <td>C22 C26</td>\n",
              "      <td>S</td>\n",
              "      <td>NaN</td>\n",
              "      <td>135.0</td>\n",
              "      <td>Montreal, PQ / Chesterville, ON</td>\n",
              "    </tr>\n",
              "    <tr>\n",
              "      <th>4</th>\n",
              "      <td>1</td>\n",
              "      <td>0</td>\n",
              "      <td>Allison, Mrs. Hudson J C (Bessie Waldo Daniels)</td>\n",
              "      <td>female</td>\n",
              "      <td>25.0000</td>\n",
              "      <td>1</td>\n",
              "      <td>2</td>\n",
              "      <td>113781</td>\n",
              "      <td>151.5500</td>\n",
              "      <td>C22 C26</td>\n",
              "      <td>S</td>\n",
              "      <td>NaN</td>\n",
              "      <td>NaN</td>\n",
              "      <td>Montreal, PQ / Chesterville, ON</td>\n",
              "    </tr>\n",
              "    <tr>\n",
              "      <th>...</th>\n",
              "      <td>...</td>\n",
              "      <td>...</td>\n",
              "      <td>...</td>\n",
              "      <td>...</td>\n",
              "      <td>...</td>\n",
              "      <td>...</td>\n",
              "      <td>...</td>\n",
              "      <td>...</td>\n",
              "      <td>...</td>\n",
              "      <td>...</td>\n",
              "      <td>...</td>\n",
              "      <td>...</td>\n",
              "      <td>...</td>\n",
              "      <td>...</td>\n",
              "    </tr>\n",
              "    <tr>\n",
              "      <th>1304</th>\n",
              "      <td>3</td>\n",
              "      <td>0</td>\n",
              "      <td>Zabour, Miss. Hileni</td>\n",
              "      <td>female</td>\n",
              "      <td>14.5000</td>\n",
              "      <td>1</td>\n",
              "      <td>0</td>\n",
              "      <td>2665</td>\n",
              "      <td>14.4542</td>\n",
              "      <td>NaN</td>\n",
              "      <td>C</td>\n",
              "      <td>NaN</td>\n",
              "      <td>328.0</td>\n",
              "      <td>NaN</td>\n",
              "    </tr>\n",
              "    <tr>\n",
              "      <th>1305</th>\n",
              "      <td>3</td>\n",
              "      <td>0</td>\n",
              "      <td>Zabour, Miss. Thamine</td>\n",
              "      <td>female</td>\n",
              "      <td>NaN</td>\n",
              "      <td>1</td>\n",
              "      <td>0</td>\n",
              "      <td>2665</td>\n",
              "      <td>14.4542</td>\n",
              "      <td>NaN</td>\n",
              "      <td>C</td>\n",
              "      <td>NaN</td>\n",
              "      <td>NaN</td>\n",
              "      <td>NaN</td>\n",
              "    </tr>\n",
              "    <tr>\n",
              "      <th>1306</th>\n",
              "      <td>3</td>\n",
              "      <td>0</td>\n",
              "      <td>Zakarian, Mr. Mapriededer</td>\n",
              "      <td>male</td>\n",
              "      <td>26.5000</td>\n",
              "      <td>0</td>\n",
              "      <td>0</td>\n",
              "      <td>2656</td>\n",
              "      <td>7.2250</td>\n",
              "      <td>NaN</td>\n",
              "      <td>C</td>\n",
              "      <td>NaN</td>\n",
              "      <td>304.0</td>\n",
              "      <td>NaN</td>\n",
              "    </tr>\n",
              "    <tr>\n",
              "      <th>1307</th>\n",
              "      <td>3</td>\n",
              "      <td>0</td>\n",
              "      <td>Zakarian, Mr. Ortin</td>\n",
              "      <td>male</td>\n",
              "      <td>27.0000</td>\n",
              "      <td>0</td>\n",
              "      <td>0</td>\n",
              "      <td>2670</td>\n",
              "      <td>7.2250</td>\n",
              "      <td>NaN</td>\n",
              "      <td>C</td>\n",
              "      <td>NaN</td>\n",
              "      <td>NaN</td>\n",
              "      <td>NaN</td>\n",
              "    </tr>\n",
              "    <tr>\n",
              "      <th>1308</th>\n",
              "      <td>3</td>\n",
              "      <td>0</td>\n",
              "      <td>Zimmerman, Mr. Leo</td>\n",
              "      <td>male</td>\n",
              "      <td>29.0000</td>\n",
              "      <td>0</td>\n",
              "      <td>0</td>\n",
              "      <td>315082</td>\n",
              "      <td>7.8750</td>\n",
              "      <td>NaN</td>\n",
              "      <td>S</td>\n",
              "      <td>NaN</td>\n",
              "      <td>NaN</td>\n",
              "      <td>NaN</td>\n",
              "    </tr>\n",
              "  </tbody>\n",
              "</table>\n",
              "<p>1309 rows × 14 columns</p>\n",
              "</div>\n",
              "    <div class=\"colab-df-buttons\">\n",
              "\n",
              "  <div class=\"colab-df-container\">\n",
              "    <button class=\"colab-df-convert\" onclick=\"convertToInteractive('df-6ce79dad-f7cb-46bd-a2ce-be535275ad88')\"\n",
              "            title=\"Convert this dataframe to an interactive table.\"\n",
              "            style=\"display:none;\">\n",
              "\n",
              "  <svg xmlns=\"http://www.w3.org/2000/svg\" height=\"24px\" viewBox=\"0 -960 960 960\">\n",
              "    <path d=\"M120-120v-720h720v720H120Zm60-500h600v-160H180v160Zm220 220h160v-160H400v160Zm0 220h160v-160H400v160ZM180-400h160v-160H180v160Zm440 0h160v-160H620v160ZM180-180h160v-160H180v160Zm440 0h160v-160H620v160Z\"/>\n",
              "  </svg>\n",
              "    </button>\n",
              "\n",
              "  <style>\n",
              "    .colab-df-container {\n",
              "      display:flex;\n",
              "      gap: 12px;\n",
              "    }\n",
              "\n",
              "    .colab-df-convert {\n",
              "      background-color: #E8F0FE;\n",
              "      border: none;\n",
              "      border-radius: 50%;\n",
              "      cursor: pointer;\n",
              "      display: none;\n",
              "      fill: #1967D2;\n",
              "      height: 32px;\n",
              "      padding: 0 0 0 0;\n",
              "      width: 32px;\n",
              "    }\n",
              "\n",
              "    .colab-df-convert:hover {\n",
              "      background-color: #E2EBFA;\n",
              "      box-shadow: 0px 1px 2px rgba(60, 64, 67, 0.3), 0px 1px 3px 1px rgba(60, 64, 67, 0.15);\n",
              "      fill: #174EA6;\n",
              "    }\n",
              "\n",
              "    .colab-df-buttons div {\n",
              "      margin-bottom: 4px;\n",
              "    }\n",
              "\n",
              "    [theme=dark] .colab-df-convert {\n",
              "      background-color: #3B4455;\n",
              "      fill: #D2E3FC;\n",
              "    }\n",
              "\n",
              "    [theme=dark] .colab-df-convert:hover {\n",
              "      background-color: #434B5C;\n",
              "      box-shadow: 0px 1px 3px 1px rgba(0, 0, 0, 0.15);\n",
              "      filter: drop-shadow(0px 1px 2px rgba(0, 0, 0, 0.3));\n",
              "      fill: #FFFFFF;\n",
              "    }\n",
              "  </style>\n",
              "\n",
              "    <script>\n",
              "      const buttonEl =\n",
              "        document.querySelector('#df-6ce79dad-f7cb-46bd-a2ce-be535275ad88 button.colab-df-convert');\n",
              "      buttonEl.style.display =\n",
              "        google.colab.kernel.accessAllowed ? 'block' : 'none';\n",
              "\n",
              "      async function convertToInteractive(key) {\n",
              "        const element = document.querySelector('#df-6ce79dad-f7cb-46bd-a2ce-be535275ad88');\n",
              "        const dataTable =\n",
              "          await google.colab.kernel.invokeFunction('convertToInteractive',\n",
              "                                                    [key], {});\n",
              "        if (!dataTable) return;\n",
              "\n",
              "        const docLinkHtml = 'Like what you see? Visit the ' +\n",
              "          '<a target=\"_blank\" href=https://colab.research.google.com/notebooks/data_table.ipynb>data table notebook</a>'\n",
              "          + ' to learn more about interactive tables.';\n",
              "        element.innerHTML = '';\n",
              "        dataTable['output_type'] = 'display_data';\n",
              "        await google.colab.output.renderOutput(dataTable, element);\n",
              "        const docLink = document.createElement('div');\n",
              "        docLink.innerHTML = docLinkHtml;\n",
              "        element.appendChild(docLink);\n",
              "      }\n",
              "    </script>\n",
              "  </div>\n",
              "\n",
              "\n",
              "<div id=\"df-5b6febe7-f585-435d-a5c5-8f4e4fd2b0e8\">\n",
              "  <button class=\"colab-df-quickchart\" onclick=\"quickchart('df-5b6febe7-f585-435d-a5c5-8f4e4fd2b0e8')\"\n",
              "            title=\"Suggest charts\"\n",
              "            style=\"display:none;\">\n",
              "\n",
              "<svg xmlns=\"http://www.w3.org/2000/svg\" height=\"24px\"viewBox=\"0 0 24 24\"\n",
              "     width=\"24px\">\n",
              "    <g>\n",
              "        <path d=\"M19 3H5c-1.1 0-2 .9-2 2v14c0 1.1.9 2 2 2h14c1.1 0 2-.9 2-2V5c0-1.1-.9-2-2-2zM9 17H7v-7h2v7zm4 0h-2V7h2v10zm4 0h-2v-4h2v4z\"/>\n",
              "    </g>\n",
              "</svg>\n",
              "  </button>\n",
              "\n",
              "<style>\n",
              "  .colab-df-quickchart {\n",
              "      --bg-color: #E8F0FE;\n",
              "      --fill-color: #1967D2;\n",
              "      --hover-bg-color: #E2EBFA;\n",
              "      --hover-fill-color: #174EA6;\n",
              "      --disabled-fill-color: #AAA;\n",
              "      --disabled-bg-color: #DDD;\n",
              "  }\n",
              "\n",
              "  [theme=dark] .colab-df-quickchart {\n",
              "      --bg-color: #3B4455;\n",
              "      --fill-color: #D2E3FC;\n",
              "      --hover-bg-color: #434B5C;\n",
              "      --hover-fill-color: #FFFFFF;\n",
              "      --disabled-bg-color: #3B4455;\n",
              "      --disabled-fill-color: #666;\n",
              "  }\n",
              "\n",
              "  .colab-df-quickchart {\n",
              "    background-color: var(--bg-color);\n",
              "    border: none;\n",
              "    border-radius: 50%;\n",
              "    cursor: pointer;\n",
              "    display: none;\n",
              "    fill: var(--fill-color);\n",
              "    height: 32px;\n",
              "    padding: 0;\n",
              "    width: 32px;\n",
              "  }\n",
              "\n",
              "  .colab-df-quickchart:hover {\n",
              "    background-color: var(--hover-bg-color);\n",
              "    box-shadow: 0 1px 2px rgba(60, 64, 67, 0.3), 0 1px 3px 1px rgba(60, 64, 67, 0.15);\n",
              "    fill: var(--button-hover-fill-color);\n",
              "  }\n",
              "\n",
              "  .colab-df-quickchart-complete:disabled,\n",
              "  .colab-df-quickchart-complete:disabled:hover {\n",
              "    background-color: var(--disabled-bg-color);\n",
              "    fill: var(--disabled-fill-color);\n",
              "    box-shadow: none;\n",
              "  }\n",
              "\n",
              "  .colab-df-spinner {\n",
              "    border: 2px solid var(--fill-color);\n",
              "    border-color: transparent;\n",
              "    border-bottom-color: var(--fill-color);\n",
              "    animation:\n",
              "      spin 1s steps(1) infinite;\n",
              "  }\n",
              "\n",
              "  @keyframes spin {\n",
              "    0% {\n",
              "      border-color: transparent;\n",
              "      border-bottom-color: var(--fill-color);\n",
              "      border-left-color: var(--fill-color);\n",
              "    }\n",
              "    20% {\n",
              "      border-color: transparent;\n",
              "      border-left-color: var(--fill-color);\n",
              "      border-top-color: var(--fill-color);\n",
              "    }\n",
              "    30% {\n",
              "      border-color: transparent;\n",
              "      border-left-color: var(--fill-color);\n",
              "      border-top-color: var(--fill-color);\n",
              "      border-right-color: var(--fill-color);\n",
              "    }\n",
              "    40% {\n",
              "      border-color: transparent;\n",
              "      border-right-color: var(--fill-color);\n",
              "      border-top-color: var(--fill-color);\n",
              "    }\n",
              "    60% {\n",
              "      border-color: transparent;\n",
              "      border-right-color: var(--fill-color);\n",
              "    }\n",
              "    80% {\n",
              "      border-color: transparent;\n",
              "      border-right-color: var(--fill-color);\n",
              "      border-bottom-color: var(--fill-color);\n",
              "    }\n",
              "    90% {\n",
              "      border-color: transparent;\n",
              "      border-bottom-color: var(--fill-color);\n",
              "    }\n",
              "  }\n",
              "</style>\n",
              "\n",
              "  <script>\n",
              "    async function quickchart(key) {\n",
              "      const quickchartButtonEl =\n",
              "        document.querySelector('#' + key + ' button');\n",
              "      quickchartButtonEl.disabled = true;  // To prevent multiple clicks.\n",
              "      quickchartButtonEl.classList.add('colab-df-spinner');\n",
              "      try {\n",
              "        const charts = await google.colab.kernel.invokeFunction(\n",
              "            'suggestCharts', [key], {});\n",
              "      } catch (error) {\n",
              "        console.error('Error during call to suggestCharts:', error);\n",
              "      }\n",
              "      quickchartButtonEl.classList.remove('colab-df-spinner');\n",
              "      quickchartButtonEl.classList.add('colab-df-quickchart-complete');\n",
              "    }\n",
              "    (() => {\n",
              "      let quickchartButtonEl =\n",
              "        document.querySelector('#df-5b6febe7-f585-435d-a5c5-8f4e4fd2b0e8 button');\n",
              "      quickchartButtonEl.style.display =\n",
              "        google.colab.kernel.accessAllowed ? 'block' : 'none';\n",
              "    })();\n",
              "  </script>\n",
              "</div>\n",
              "\n",
              "  <div id=\"id_f7a4f9cb-085e-4eba-b403-fabc4da71a2c\">\n",
              "    <style>\n",
              "      .colab-df-generate {\n",
              "        background-color: #E8F0FE;\n",
              "        border: none;\n",
              "        border-radius: 50%;\n",
              "        cursor: pointer;\n",
              "        display: none;\n",
              "        fill: #1967D2;\n",
              "        height: 32px;\n",
              "        padding: 0 0 0 0;\n",
              "        width: 32px;\n",
              "      }\n",
              "\n",
              "      .colab-df-generate:hover {\n",
              "        background-color: #E2EBFA;\n",
              "        box-shadow: 0px 1px 2px rgba(60, 64, 67, 0.3), 0px 1px 3px 1px rgba(60, 64, 67, 0.15);\n",
              "        fill: #174EA6;\n",
              "      }\n",
              "\n",
              "      [theme=dark] .colab-df-generate {\n",
              "        background-color: #3B4455;\n",
              "        fill: #D2E3FC;\n",
              "      }\n",
              "\n",
              "      [theme=dark] .colab-df-generate:hover {\n",
              "        background-color: #434B5C;\n",
              "        box-shadow: 0px 1px 3px 1px rgba(0, 0, 0, 0.15);\n",
              "        filter: drop-shadow(0px 1px 2px rgba(0, 0, 0, 0.3));\n",
              "        fill: #FFFFFF;\n",
              "      }\n",
              "    </style>\n",
              "    <button class=\"colab-df-generate\" onclick=\"generateWithVariable('titanic')\"\n",
              "            title=\"Generate code using this dataframe.\"\n",
              "            style=\"display:none;\">\n",
              "\n",
              "  <svg xmlns=\"http://www.w3.org/2000/svg\" height=\"24px\"viewBox=\"0 0 24 24\"\n",
              "       width=\"24px\">\n",
              "    <path d=\"M7,19H8.4L18.45,9,17,7.55,7,17.6ZM5,21V16.75L18.45,3.32a2,2,0,0,1,2.83,0l1.4,1.43a1.91,1.91,0,0,1,.58,1.4,1.91,1.91,0,0,1-.58,1.4L9.25,21ZM18.45,9,17,7.55Zm-12,3A5.31,5.31,0,0,0,4.9,8.1,5.31,5.31,0,0,0,1,6.5,5.31,5.31,0,0,0,4.9,4.9,5.31,5.31,0,0,0,6.5,1,5.31,5.31,0,0,0,8.1,4.9,5.31,5.31,0,0,0,12,6.5,5.46,5.46,0,0,0,6.5,12Z\"/>\n",
              "  </svg>\n",
              "    </button>\n",
              "    <script>\n",
              "      (() => {\n",
              "      const buttonEl =\n",
              "        document.querySelector('#id_f7a4f9cb-085e-4eba-b403-fabc4da71a2c button.colab-df-generate');\n",
              "      buttonEl.style.display =\n",
              "        google.colab.kernel.accessAllowed ? 'block' : 'none';\n",
              "\n",
              "      buttonEl.onclick = () => {\n",
              "        google.colab.notebook.generateWithVariable('titanic');\n",
              "      }\n",
              "      })();\n",
              "    </script>\n",
              "  </div>\n",
              "\n",
              "    </div>\n",
              "  </div>\n"
            ],
            "application/vnd.google.colaboratory.intrinsic+json": {
              "type": "dataframe",
              "variable_name": "titanic",
              "summary": "{\n  \"name\": \"titanic\",\n  \"rows\": 1309,\n  \"fields\": [\n    {\n      \"column\": \"pclass\",\n      \"properties\": {\n        \"dtype\": \"number\",\n        \"std\": 0,\n        \"min\": 1,\n        \"max\": 3,\n        \"num_unique_values\": 3,\n        \"samples\": [\n          1,\n          2,\n          3\n        ],\n        \"semantic_type\": \"\",\n        \"description\": \"\"\n      }\n    },\n    {\n      \"column\": \"survived\",\n      \"properties\": {\n        \"dtype\": \"number\",\n        \"std\": 0,\n        \"min\": 0,\n        \"max\": 1,\n        \"num_unique_values\": 2,\n        \"samples\": [\n          0,\n          1\n        ],\n        \"semantic_type\": \"\",\n        \"description\": \"\"\n      }\n    },\n    {\n      \"column\": \"name\",\n      \"properties\": {\n        \"dtype\": \"string\",\n        \"num_unique_values\": 1307,\n        \"samples\": [\n          \"Saade, Mr. Jean Nassr\",\n          \"Nakid, Mr. Sahid\"\n        ],\n        \"semantic_type\": \"\",\n        \"description\": \"\"\n      }\n    },\n    {\n      \"column\": \"sex\",\n      \"properties\": {\n        \"dtype\": \"category\",\n        \"num_unique_values\": 2,\n        \"samples\": [\n          \"male\",\n          \"female\"\n        ],\n        \"semantic_type\": \"\",\n        \"description\": \"\"\n      }\n    },\n    {\n      \"column\": \"age\",\n      \"properties\": {\n        \"dtype\": \"number\",\n        \"std\": 14.413499699923602,\n        \"min\": 0.1667,\n        \"max\": 80.0,\n        \"num_unique_values\": 98,\n        \"samples\": [\n          57.0,\n          55.0\n        ],\n        \"semantic_type\": \"\",\n        \"description\": \"\"\n      }\n    },\n    {\n      \"column\": \"sibsp\",\n      \"properties\": {\n        \"dtype\": \"number\",\n        \"std\": 1,\n        \"min\": 0,\n        \"max\": 8,\n        \"num_unique_values\": 7,\n        \"samples\": [\n          0,\n          1\n        ],\n        \"semantic_type\": \"\",\n        \"description\": \"\"\n      }\n    },\n    {\n      \"column\": \"parch\",\n      \"properties\": {\n        \"dtype\": \"number\",\n        \"std\": 0,\n        \"min\": 0,\n        \"max\": 9,\n        \"num_unique_values\": 8,\n        \"samples\": [\n          2,\n          5\n        ],\n        \"semantic_type\": \"\",\n        \"description\": \"\"\n      }\n    },\n    {\n      \"column\": \"ticket\",\n      \"properties\": {\n        \"dtype\": \"string\",\n        \"num_unique_values\": 939,\n        \"samples\": [\n          \"223596\",\n          33638\n        ],\n        \"semantic_type\": \"\",\n        \"description\": \"\"\n      }\n    },\n    {\n      \"column\": \"fare\",\n      \"properties\": {\n        \"dtype\": \"number\",\n        \"std\": 51.75866823917411,\n        \"min\": 0.0,\n        \"max\": 512.3292,\n        \"num_unique_values\": 281,\n        \"samples\": [\n          5.0,\n          9.35\n        ],\n        \"semantic_type\": \"\",\n        \"description\": \"\"\n      }\n    },\n    {\n      \"column\": \"cabin\",\n      \"properties\": {\n        \"dtype\": \"category\",\n        \"num_unique_values\": 186,\n        \"samples\": [\n          \"C90\",\n          \"C80\"\n        ],\n        \"semantic_type\": \"\",\n        \"description\": \"\"\n      }\n    },\n    {\n      \"column\": \"embarked\",\n      \"properties\": {\n        \"dtype\": \"category\",\n        \"num_unique_values\": 3,\n        \"samples\": [\n          \"S\",\n          \"C\"\n        ],\n        \"semantic_type\": \"\",\n        \"description\": \"\"\n      }\n    },\n    {\n      \"column\": \"boat\",\n      \"properties\": {\n        \"dtype\": \"category\",\n        \"num_unique_values\": 28,\n        \"samples\": [\n          \"8\",\n          \"C D\"\n        ],\n        \"semantic_type\": \"\",\n        \"description\": \"\"\n      }\n    },\n    {\n      \"column\": \"body\",\n      \"properties\": {\n        \"dtype\": \"number\",\n        \"std\": 97.6969219960031,\n        \"min\": 1.0,\n        \"max\": 328.0,\n        \"num_unique_values\": 121,\n        \"samples\": [\n          297.0,\n          19.0\n        ],\n        \"semantic_type\": \"\",\n        \"description\": \"\"\n      }\n    },\n    {\n      \"column\": \"home.dest\",\n      \"properties\": {\n        \"dtype\": \"category\",\n        \"num_unique_values\": 369,\n        \"samples\": [\n          \"Co Limerick, Ireland Sherbrooke, PQ\",\n          \"Amenia, ND\"\n        ],\n        \"semantic_type\": \"\",\n        \"description\": \"\"\n      }\n    }\n  ]\n}"
            }
          },
          "metadata": {},
          "execution_count": 53
        }
      ],
      "source": [
        "titanic"
      ]
    },
    {
      "cell_type": "code",
      "execution_count": 54,
      "id": "PlxXsaH_WZLV",
      "metadata": {
        "colab": {
          "base_uri": "https://localhost:8080/"
        },
        "id": "PlxXsaH_WZLV",
        "outputId": "a081d54f-6dfc-4396-f271-d79adf6b6bb7"
      },
      "outputs": [
        {
          "output_type": "stream",
          "name": "stdout",
          "text": [
            "pclass       1309\n",
            "survived     1309\n",
            "name         1309\n",
            "sex          1309\n",
            "age          1046\n",
            "sibsp        1309\n",
            "parch        1309\n",
            "ticket       1309\n",
            "fare         1308\n",
            "cabin         295\n",
            "embarked     1307\n",
            "boat          486\n",
            "body          121\n",
            "home.dest     745\n",
            "dtype: int64\n"
          ]
        }
      ],
      "source": [
        "#จำนวนข้อมูลในแต่ละคอลัมน์\n",
        "\n",
        "print(df.count())\n"
      ]
    },
    {
      "cell_type": "code",
      "execution_count": 55,
      "id": "x2wVQOl9JS-N",
      "metadata": {
        "colab": {
          "base_uri": "https://localhost:8080/"
        },
        "id": "x2wVQOl9JS-N",
        "outputId": "ceb2ec53-16c1-43b2-88b5-4fd3d50d8b61"
      },
      "outputs": [
        {
          "output_type": "stream",
          "name": "stdout",
          "text": [
            "            pclass     survived          age        sibsp        parch  \\\n",
            "count  1309.000000  1309.000000  1046.000000  1309.000000  1309.000000   \n",
            "mean      2.294882     0.381971    29.881135     0.498854     0.385027   \n",
            "std       0.837836     0.486055    14.413500     1.041658     0.865560   \n",
            "min       1.000000     0.000000     0.166700     0.000000     0.000000   \n",
            "25%       2.000000     0.000000    21.000000     0.000000     0.000000   \n",
            "50%       3.000000     0.000000    28.000000     0.000000     0.000000   \n",
            "75%       3.000000     1.000000    39.000000     1.000000     0.000000   \n",
            "max       3.000000     1.000000    80.000000     8.000000     9.000000   \n",
            "\n",
            "              fare        body  \n",
            "count  1308.000000  121.000000  \n",
            "mean     33.295479  160.809917  \n",
            "std      51.758668   97.696922  \n",
            "min       0.000000    1.000000  \n",
            "25%       7.895800   72.000000  \n",
            "50%      14.454200  155.000000  \n",
            "75%      31.275000  256.000000  \n",
            "max     512.329200  328.000000  \n"
          ]
        }
      ],
      "source": [
        "# Check for outliers (This is a basic check, you might need more advanced methods) คำนวณสถิติพื้นฐาน\n",
        "print(df.describe())"
      ]
    },
    {
      "cell_type": "markdown",
      "id": "bbf2b515",
      "metadata": {
        "id": "bbf2b515"
      },
      "source": [
        "#* (10 points) จากข้อมูลที่ให้มา มีค่าว่างสูญหายมากน้อยแค่ไหน? และมีค่าผิดปกติ (outliers) และหรือข้อมูลรบกวน (noisy data) หรือไม่ในแต่ละตัวแปร?"
      ]
    },
    {
      "cell_type": "code",
      "execution_count": 56,
      "id": "2WYj9vkiL6dG",
      "metadata": {
        "colab": {
          "base_uri": "https://localhost:8080/"
        },
        "id": "2WYj9vkiL6dG",
        "outputId": "a9e4b0bb-f4aa-4107-be85-39a474d77f2f"
      },
      "outputs": [
        {
          "output_type": "stream",
          "name": "stdout",
          "text": [
            "Missing values per column:\n",
            "pclass          0\n",
            "survived        0\n",
            "name            0\n",
            "sex             0\n",
            "age           263\n",
            "sibsp           0\n",
            "parch           0\n",
            "ticket          0\n",
            "fare            1\n",
            "cabin        1014\n",
            "embarked        2\n",
            "boat          823\n",
            "body         1188\n",
            "home.dest     564\n",
            "dtype: int64\n"
          ]
        }
      ],
      "source": [
        "# ตรวจสอบและแสดงผลลัพธ์หลังจากการจัดการค่าที่หายไป\n",
        "missing_values = df.isnull().sum()\n",
        "print(\"Missing values per column:\")\n",
        "print(missing_values)"
      ]
    },
    {
      "cell_type": "code",
      "execution_count": 57,
      "id": "NeE-yJTnOeoA",
      "metadata": {
        "colab": {
          "base_uri": "https://localhost:8080/"
        },
        "id": "NeE-yJTnOeoA",
        "outputId": "50a22ce4-b950-4ae3-b1fa-0eab15fb8805"
      },
      "outputs": [
        {
          "output_type": "stream",
          "name": "stdout",
          "text": [
            "จากข้อมูลที่ให้มา มีค่าว่าง ค่าผิดปกติ ค่าที่ไม่ตรงกัน หรือข้อมูลรบกวนในแต่ละตัวแปร ดังนี้\n",
            "age 263 หน่วย\n",
            "fare 1 หน่วย\n",
            "cabin 1014 หน่วย\n",
            "embarked 2 หน่วย\n",
            "boat 823 หน่วย\n",
            "body 1188 หน่วย\n",
            "home.dest 564 หน่วย\n",
            "\n"
          ]
        }
      ],
      "source": [
        "# สรุป\n",
        "message = \"จากข้อมูลที่ให้มา มีค่าว่าง ค่าผิดปกติ ค่าที่ไม่ตรงกัน หรือข้อมูลรบกวนในแต่ละตัวแปร ดังนี้\\n\"\n",
        "for column, count in missing_values.items():\n",
        "    if count > 0:\n",
        "        message += f\"{column} {count} หน่วย\\n\"\n",
        "\n",
        "# แสดงข้อความ\n",
        "print(message)"
      ]
    },
    {
      "cell_type": "markdown",
      "id": "f47f1535",
      "metadata": {
        "id": "f47f1535"
      },
      "source": [
        "# * (10 points) จากข้อมูลที่ให้มา เตรียมข้อมูลให้พร้อมโดยการจัดการกับค่าว่างในข้อมูล ให้อธิบายวิธีที่ท่านเลือกใช้ พร้อมยกเหตุผลประกอบ"
      ]
    },
    {
      "cell_type": "code",
      "execution_count": 58,
      "id": "668fb6e9",
      "metadata": {
        "colab": {
          "base_uri": "https://localhost:8080/"
        },
        "id": "668fb6e9",
        "outputId": "74a906ab-8f9f-4512-e0ca-83a8ce9a6d03"
      },
      "outputs": [
        {
          "output_type": "stream",
          "name": "stdout",
          "text": [
            "       age      fare embarked                        home.dest\n",
            "0  29.0000  211.3375        S                     St Louis, MO\n",
            "1   0.9167  151.5500        S  Montreal, PQ / Chesterville, ON\n",
            "2   2.0000  151.5500        S  Montreal, PQ / Chesterville, ON\n",
            "3  30.0000  151.5500        S  Montreal, PQ / Chesterville, ON\n",
            "4  25.0000  151.5500        S  Montreal, PQ / Chesterville, ON\n"
          ]
        }
      ],
      "source": [
        "#การเติมค่าที่หายไปด้วยค่าเฉลี่ย (Mean)\n",
        "#คอลัมน์ที่ใช้ คือ age, fare\n",
        "#เหตุผล คือ ค่าเฉลี่ยเป็นค่าที่ค่อนข้างเป็นกลางและเป็นการคาดการณ์ที่สมเหตุสมผลสำหรับข้อมูลที่มีการกระจายแบบปกติ หรือข้อมูลที่มีการกระจายที่ไม่เบี่ยงเบนมากนัก สำหรับหนูคิดว่าเหมาะกับอายุและค่าโดยสารที่เป็นตัวเลขทศนิยมค่ะ\n",
        "df['age'].fillna(df['age'].mean(), inplace=True)\n",
        "df['fare'].fillna(df['fare'].mean(), inplace=True)\n",
        "\n",
        "#การเติมค่าที่หายไปด้วยค่าที่พบบ่อยที่สุด (Mode)\n",
        "#คอลัมน์ที่ใช้ คือ embarked\n",
        "#เหตุผล คือ การเติมค่าด้วยค่าที่พบบ่อยที่สุด จะช่วยรักษาความสมดุลของข้อมูลในคอลัมน์หมวดหมู่ และทำให้ข้อมูลยังคงมีความเป็นตัวแทนของข้อมูลที่มีอยู่ค่ะ\n",
        "df['embarked'].fillna(df['embarked'].mode()[0], inplace=True)\n",
        "\n",
        "#การเติมค่าที่หายไปด้วยค่าที่เฉพาะเจาะจง\n",
        "#คอลัมน์ที่ใช้: home.dest\n",
        "#เหตุผล: การเติมค่าด้วยคำที่ชัดเจนช่วยให้ข้อมูลมีความหมายมากขึ้น และสามารถช่วยในการวิเคราะห์ต่อไป โดยเฉพาะเมื่อคอลัมน์มีความสำคัญต่อการวิเคราะห์\n",
        "df['home.dest'].fillna('Unknown', inplace=True)\n",
        "\n",
        "# แสดงข้อมูลที่เติมค่าแล้ว (งงเลย ทำไมค่าเท่าเดิม)\n",
        "print(df[['age', 'fare', 'embarked', 'home.dest']].head())\n"
      ]
    },
    {
      "cell_type": "markdown",
      "id": "lWjmHub6V4wK",
      "metadata": {
        "id": "lWjmHub6V4wK"
      },
      "source": [
        "##วิธียอดฮิตที่หนูไม่ได้ใช้ **ลองใช้ dropna แล้วข้อมูลหายเกลี้ยงหมดทุกอย่างเลยค่ะ**"
      ]
    },
    {
      "cell_type": "code",
      "execution_count": 59,
      "id": "21NHzmf1Uydw",
      "metadata": {
        "id": "21NHzmf1Uydw"
      },
      "outputs": [],
      "source": [
        "#วิธียอดฮิต **ลองแล้วข้อมูลหายเกลี้ยงหมดทุกอย่างเลยค่ะ**\n",
        "#การลบแถวที่มีค่าหายไปด้วย dropna แต่เหมาะจะลบข้อมูลที่มีจำนวนแถวที่มีค่าว่างน้อย ถ้าจะใช้ก็ใช้กับ fare และ embarked จะได้ไม่ส่งผลกระทบต่อการวิเคราะห์ทั้งหมดค่ะ\n",
        "#df_clean = df.dropna(subset=['fare', 'embarked'], inplace=True)\n",
        "\n",
        "#วิธีการลบคอลัมน์ที่มีค่าหายไปมากเกินไป(มากกว่า 50% ของข้อมูลทั้งหมด) เหมาะจะใช้กับคอลัมน์ cabin, body, boat\n",
        "#เหตุผล คือ คอลัมน์ที่มีค่าหายไปมากอาจไม่ให้ข้อมูลที่เป็นประโยชน์เพียงพอ และอาจทำให้การวิเคราะห์ข้อมูลผิดเพี้ยนได้"
      ]
    },
    {
      "cell_type": "markdown",
      "id": "6f488b3f",
      "metadata": {
        "id": "6f488b3f"
      },
      "source": [
        "# **bold text** แปลงข้อมูลเชิงคุณภาพให้เป็นตัวเลข \\\n",
        "    i. (10 points) ใช้ one-hot encoding ในการแปลงตัวแปร Embarked \\\n",
        "    ii. (10 points) แปลงตัวแปร Sex โดยให้เพศชายเป็น 0 และเพศหญิงเป็น 1 \\\n",
        "    iii. (10 points) สร้างตัวแปร FamilySize ซึ่งเป็นผลรวมของตัวแปร SibSp (number of siblings/spouses aboard) และ Parch (number of parents/children aboard) \\\n",
        "    iv. (10 points) สร้างตัวแปร IsAlone ซึ่งมีค่าเป็น 1 ถ้า FamilySize เป็น 0, และมีค่าเป็นศูนย์เมื่อเป็นอื่น"
      ]
    },
    {
      "cell_type": "code",
      "execution_count": 60,
      "id": "DW5nIIHmScXe",
      "metadata": {
        "colab": {
          "base_uri": "https://localhost:8080/"
        },
        "id": "DW5nIIHmScXe",
        "outputId": "07f64ba4-c517-49ac-8398-4d5e5e6771db"
      },
      "outputs": [
        {
          "output_type": "stream",
          "name": "stdout",
          "text": [
            "      sex  FamilySize  IsAlone  embarked_Q  embarked_S\n",
            "0       1           0        1       False        True\n",
            "1       0           3        0       False        True\n",
            "2       1           3        0       False        True\n",
            "3       0           3        0       False        True\n",
            "4       1           3        0       False        True\n",
            "...   ...         ...      ...         ...         ...\n",
            "1304    1           1        0       False       False\n",
            "1305    1           1        0       False       False\n",
            "1306    0           0        1       False       False\n",
            "1307    0           0        1       False       False\n",
            "1308    0           0        1       False        True\n",
            "\n",
            "[1309 rows x 5 columns]\n"
          ]
        }
      ],
      "source": [
        "\n",
        "# i. (10 points) ใช้ One-Hot Encoding ในการแปลงตัวแปร Embarked\n",
        "df = pd.get_dummies(titanic, columns=['embarked'], drop_first=True) # Changed df to titanic\n",
        "\n",
        "# ii. (10 points) แปลงตัวแปร Sex โดยให้เพศชายเป็น 0 และเพศหญิงเป็น 1\n",
        "df['sex'] = df['sex'].map({'male': 0, 'female': 1})\n",
        "\n",
        "# iii. (10 points) สร้างตัวแปร FamilySize ซึ่งเป็นผลรวมของตัวแปร SibSp และ Parch\n",
        "df['FamilySize'] = df['sibsp'] + df['parch']\n",
        "\n",
        "# iv. (10 points) สร้างตัวแปร IsAlone ซึ่งมีค่าเป็น 1 ถ้า FamilySize เป็น 0, และมีค่าเป็นศูนย์เมื่อเป็นอื่น\n",
        "df['IsAlone'] = df['FamilySize'].apply(lambda x: 1 if x == 0 else 0)\n",
        "\n",
        "# แสดงผลลัพธ์\n",
        "print(df[['sex', 'FamilySize', 'IsAlone'] + [col for col in df.columns if 'embarked' in col]])"
      ]
    },
    {
      "cell_type": "markdown",
      "id": "63740426",
      "metadata": {
        "id": "63740426"
      },
      "source": [
        "#* ทำการ Normalize ข้อมูล \\\n",
        "    i. (10 points) ตัวแปร Fare และ Age ใช้ Min-Max Scaling \\\n",
        "    ii. (10 points) สร้างตัวแปรใหม่ Fare_Per_Person ด้วยการนำตัวแปร Fare มาหารด้วย FamilySize + 1 \\\n",
        "    iii. (10 points) สร้างตัวแปร AgeGroup ที่ระบุกลุ่มอายุของตัวอย่าง โดยแบ่งเป็นกลุ่มดังนี้ [0, 12), [12, 18), [18, 50) และ [50, 100)"
      ]
    },
    {
      "cell_type": "code",
      "source": [
        "from sklearn.preprocessing import MinMaxScaler\n",
        "\n",
        "# i. (10 points) ตัวแปร Fare และ Age ใช้ Min-Max Scaling\n",
        "scaler = MinMaxScaler()\n",
        "df[['fare', 'age']] = scaler.fit_transform(df[['fare', 'age']])\n",
        "\n",
        "# ii. (10 points) สร้างตัวแปรใหม่ Fare_Per_Person ด้วยการนำตัวแปร Fare มาหารด้วย FamilySize + 1\n",
        "df['Fare_Per_Person'] = df['fare'] / (df['FamilySize'] + 1)\n",
        "\n",
        "# iii. (10 points) สร้างตัวแปร AgeGroup ที่ระบุกลุ่มอายุของตัวอย่าง โดยแบ่งเป็นกลุ่มดังนี้ [0, 12), [12, 18), [18, 50) และ [50, 100)\n",
        "df['AgeGroup'] = pd.cut(df['age'], bins=[0, 12, 18, 50, 100], labels=['Child', 'Teenager', 'Adult', 'Senior'])\n",
        "\n",
        "# แสดงผลลัพธ์\n",
        "print(df[['fare', 'age', 'Fare_Per_Person', 'AgeGroup']])\n"
      ],
      "metadata": {
        "colab": {
          "base_uri": "https://localhost:8080/"
        },
        "id": "JESBOuzgUYr4",
        "outputId": "e4afcc3c-e4e3-410d-d81f-42ca8ac60fa2"
      },
      "id": "JESBOuzgUYr4",
      "execution_count": 61,
      "outputs": [
        {
          "output_type": "stream",
          "name": "stdout",
          "text": [
            "          fare       age  Fare_Per_Person AgeGroup\n",
            "0     0.412503  0.361169         0.412503    Child\n",
            "1     0.295806  0.009395         0.073951    Child\n",
            "2     0.295806  0.022964         0.073951    Child\n",
            "3     0.295806  0.373695         0.073951    Child\n",
            "4     0.295806  0.311064         0.073951    Child\n",
            "...        ...       ...              ...      ...\n",
            "1304  0.028213  0.179540         0.014106    Child\n",
            "1305  0.028213       NaN         0.014106      NaN\n",
            "1306  0.014102  0.329854         0.014102    Child\n",
            "1307  0.014102  0.336117         0.014102    Child\n",
            "1308  0.015371  0.361169         0.015371    Child\n",
            "\n",
            "[1309 rows x 4 columns]\n"
          ]
        }
      ]
    },
    {
      "cell_type": "markdown",
      "id": "36f92939",
      "metadata": {
        "id": "36f92939"
      },
      "source": [
        "#* (10 points) นำเสนอการแจกแจงหรือทำความเข้าใจตัวแปรสำคัญในข้อมูล เช่น Age, Fare, and Pclass ด้วยการสร้างฮิสโตแกรมหรือแผนภาพกล่อง"
      ]
    },
    {
      "cell_type": "code",
      "execution_count": 62,
      "id": "1a1c4bd9",
      "metadata": {
        "id": "1a1c4bd9",
        "colab": {
          "base_uri": "https://localhost:8080/",
          "height": 1000
        },
        "outputId": "04c4e28c-d2aa-48d9-f46c-6a2f77cd0590"
      },
      "outputs": [
        {
          "output_type": "display_data",
          "data": {
            "text/plain": [
              "<Figure size 1200x400 with 2 Axes>"
            ],
            "image/png": "[encoded data removed]"
          },
          "metadata": {}
        },
        {
          "output_type": "display_data",
          "data": {
            "text/plain": [
              "<Figure size 1200x400 with 2 Axes>"
            ],
            "image/png": "[encoded data removed]"
          },
          "metadata": {}
        },
        {
          "output_type": "display_data",
          "data": {
            "text/plain": [
              "<Figure size 800x600 with 1 Axes>"
            ],
            "image/png": "[encoded data removed]"
          },
          "metadata": {}
        }
      ],
      "source": [
        "import matplotlib.pyplot as plt\n",
        "# Histograms for Age, Fare\n",
        "plt.figure(figsize=(12, 4))\n",
        "plt.subplot(1, 2, 1)\n",
        "plt.hist(df['age'], bins=20)\n",
        "plt.title('Age Distribution')\n",
        "plt.xlabel('Age')\n",
        "plt.ylabel('Frequency')\n",
        "\n",
        "plt.subplot(1, 2, 2)\n",
        "plt.hist(df['fare'], bins=20)\n",
        "plt.title('Fare Distribution')\n",
        "plt.xlabel('Fare')\n",
        "plt.ylabel('Frequency')\n",
        "plt.show()\n",
        "\n",
        "# Box plots for Age, Fare, and Pclass\n",
        "plt.figure(figsize=(12, 4))\n",
        "plt.subplot(1, 2, 1)\n",
        "plt.boxplot(df['age'])\n",
        "plt.title('Age Box Plot')\n",
        "plt.ylabel('Age')\n",
        "\n",
        "plt.subplot(1, 2, 2)\n",
        "plt.boxplot(df['fare'])\n",
        "plt.title('Fare Box Plot')\n",
        "plt.ylabel('Fare')\n",
        "plt.show()\n",
        "\n",
        "# Box plot for Pclass\n",
        "plt.figure(figsize=(8, 6))\n",
        "plt.boxplot([df[df['pclass'] == 1]['fare'],\n",
        "              df[df['pclass'] == 2]['fare'],\n",
        "              df[df['pclass'] == 3]['fare']],\n",
        "             labels=['Pclass 1', 'Pclass 2', 'Pclass 3'])\n",
        "plt.title('Fare Distribution by Pclass')\n",
        "plt.ylabel('Fare')\n",
        "plt.show()\n"
      ]
    },
    {
      "cell_type": "markdown",
      "id": "b69b218a",
      "metadata": {
        "id": "b69b218a"
      },
      "source": [
        "#* เมื่อเตรียมข้อมูลพร้อมแล้ว ให้หาความสัมพันธ์ของตัวแปรต่อไปนี้จากข้อมูล ซึ่งอาจนำเสนอด้วยสถิติและแผนภูมิหรือกราฟก็ได้: \\\n",
        "    i. (10 points) survived และ pclass \\\n",
        "    ii. (10 points) survived และ sex \\\n",
        "    iii. (10 points) survived และ age \\\n",
        "    iv. (10 points) จำนวนสมาชิกครอบครัวที่รอดชีวิต และ Fare"
      ]
    },
    {
      "cell_type": "code",
      "execution_count": 63,
      "id": "27fcc0c4",
      "metadata": {
        "id": "27fcc0c4",
        "colab": {
          "base_uri": "https://localhost:8080/",
          "height": 1000
        },
        "outputId": "fc2aa9a7-7aee-46c5-ee8b-73600e6f9635"
      },
      "outputs": [
        {
          "output_type": "stream",
          "name": "stdout",
          "text": [
            "pclass      1    2    3   All\n",
            "survived                     \n",
            "0         123  158  528   809\n",
            "1         200  119  181   500\n",
            "All       323  277  709  1309\n"
          ]
        },
        {
          "output_type": "display_data",
          "data": {
            "text/plain": [
              "<Figure size 800x600 with 1 Axes>"
            ],
            "image/png": "[encoded data removed]"
          },
          "metadata": {}
        },
        {
          "output_type": "stream",
          "name": "stdout",
          "text": [
            "sex         0    1   All\n",
            "survived                \n",
            "0         682  127   809\n",
            "1         161  339   500\n",
            "All       843  466  1309\n"
          ]
        },
        {
          "output_type": "display_data",
          "data": {
            "text/plain": [
              "<Figure size 800x600 with 1 Axes>"
            ],
            "image/png": "[encoded data removed]"
          },
          "metadata": {}
        },
        {
          "output_type": "display_data",
          "data": {
            "text/plain": [
              "<Figure size 800x600 with 1 Axes>"
            ],
            "image/png": "[encoded data removed]"
          },
          "metadata": {}
        },
        {
          "output_type": "display_data",
          "data": {
            "text/plain": [
              "<Figure size 800x600 with 1 Axes>"
            ],
            "image/png": "[encoded data removed]"
          },
          "metadata": {}
        }
      ],
      "source": [
        "import pandas as pd\n",
        "import matplotlib.pyplot as plt\n",
        "# i. (10 points) survived และ pclass\n",
        "print(pd.crosstab(df['survived'], df['pclass'], margins=True))\n",
        "plt.figure(figsize=(8, 6))\n",
        "df.groupby('pclass')['survived'].mean().plot(kind='bar')\n",
        "plt.title('Survival Rate by Pclass')\n",
        "plt.xlabel('Pclass')\n",
        "plt.ylabel('Survival Rate')\n",
        "plt.show()\n",
        "\n",
        "# ii. (10 points) survived และ sex\n",
        "print(pd.crosstab(df['survived'], df['sex'], margins=True))\n",
        "plt.figure(figsize=(8, 6))\n",
        "df.groupby('sex')['survived'].mean().plot(kind='bar')\n",
        "plt.title('Survival Rate by Sex')\n",
        "plt.xlabel('Sex')\n",
        "plt.ylabel('Survival Rate')\n",
        "plt.show()\n",
        "\n",
        "# iii. (10 points) survived และ age\n",
        "plt.figure(figsize=(8, 6))\n",
        "plt.scatter(df['age'], df['survived'])\n",
        "plt.title('Survival Rate by Age')\n",
        "plt.xlabel('Age')\n",
        "plt.ylabel('Survived')\n",
        "plt.show()\n",
        "\n",
        "# iv. (10 points) จำนวนสมาชิกครอบครัวที่รอดชีวิต และ Fare\n",
        "plt.figure(figsize=(8, 6))\n",
        "plt.scatter(df['FamilySize'], df['fare'])\n",
        "plt.title('Fare vs Family Size')\n",
        "plt.xlabel('Family Size')\n",
        "plt.ylabel('Fare')\n",
        "plt.show()\n"
      ]
    },
    {
      "cell_type": "markdown",
      "id": "c2d754e0",
      "metadata": {
        "id": "c2d754e0"
      },
      "source": [
        "#* (10 points) สร้างตารางสรุปข้อมูลเพื่อหาคุณลักษณะของผู้โดยสารเรือไททานิค และศึกษาเกี่ยวกับการเสียชีวิตของผู้โดยสาร ทำการสรุปผลที่ได้จากตาราง"
      ]
    },
    {
      "cell_type": "code",
      "source": [
        "# สร้างตารางสรุปข้อมูล\n",
        "pivot_table = df.pivot_table(values='survived', index=['sex', 'pclass'], columns=['AgeGroup'], aggfunc='mean')\n",
        "\n",
        "# แสดงตารางสรุปข้อมูล\n",
        "print(pivot_table)"
      ],
      "metadata": {
        "colab": {
          "base_uri": "https://localhost:8080/"
        },
        "id": "uzA4sl7_fbhD",
        "outputId": "4f589836-d66a-48b6-95af-42b639174097"
      },
      "id": "uzA4sl7_fbhD",
      "execution_count": 65,
      "outputs": [
        {
          "output_type": "stream",
          "name": "stdout",
          "text": [
            "AgeGroup       Child\n",
            "sex pclass          \n",
            "0   1       0.350993\n",
            "    2       0.145570\n",
            "    3       0.169054\n",
            "1   1       0.962406\n",
            "    2       0.893204\n",
            "    3       0.470199\n"
          ]
        }
      ]
    },
    {
      "cell_type": "code",
      "execution_count": 66,
      "id": "483206c4",
      "metadata": {
        "id": "483206c4",
        "colab": {
          "base_uri": "https://localhost:8080/"
        },
        "outputId": "dd99e571-6746-4da5-c0f5-2defdba5c71b"
      },
      "outputs": [
        {
          "output_type": "stream",
          "name": "stdout",
          "text": [
            "\n",
            "สรุปผลที่ได้จากตาราง:\n",
            "\n",
            "จากตารางสรุปข้อมูลพบว่า\n",
            "- เพศหญิงมีอัตราการรอดชีวิตสูงกว่าเพศชายในทุกระดับชั้นโดยทั่วไป\n",
            "- ผู้โดยสารในชั้น Pclass 1 มีอัตราการรอดชีวิตสูงกว่าผู้โดยสารในชั้น Pclass 2 และ Pclass 3\n",
            "- ผู้โดยสารในกลุ่มอายุเด็ก (Child) มีอัตราการรอดชีวิตสูงกว่ากลุ่มอายุอื่นๆ\n",
            "- อัตราการรอดชีวิตของผู้โดยสารในแต่ละกลุ่มอายุมีความแตกต่างกันไปตามเพศและระดับชั้น\n"
          ]
        }
      ],
      "source": [
        "# สรุปผลที่ได้จากตาราง\n",
        "print(\"\\nสรุปผลที่ได้จากตาราง:\\n\")\n",
        "print(\"จากตารางสรุปข้อมูลพบว่า\")\n",
        "print(\"- เพศหญิงมีอัตราการรอดชีวิตสูงกว่าเพศชายในทุกระดับชั้นโดยทั่วไป\")\n",
        "print(\"- ผู้โดยสารในชั้น Pclass 1 มีอัตราการรอดชีวิตสูงกว่าผู้โดยสารในชั้น Pclass 2 และ Pclass 3\")\n",
        "print(\"- ผู้โดยสารในกลุ่มอายุเด็ก (Child) มีอัตราการรอดชีวิตสูงกว่ากลุ่มอายุอื่นๆ\")\n",
        "print(\"- อัตราการรอดชีวิตของผู้โดยสารในแต่ละกลุ่มอายุมีความแตกต่างกันไปตามเพศและระดับชั้น\")\n"
      ]
    },
    {
      "cell_type": "markdown",
      "id": "35649ff8",
      "metadata": {
        "id": "35649ff8"
      },
      "source": [
        "-----------------\n",
        "# เสร็จแล้ววววว 🥳\n",
        "\n",
        "สิ่งที่ต้องแนบส่ง:\n",
        "* ไฟล์ pdf ของ IPythonNotebook ซึ่งมีผลลัพธ์จากการรันโค้ดแสดงทั้งหมด"
      ]
    }
  ],
  "metadata": {
    "colab": {
      "provenance": [],
      "include_colab_link": true
    },
    "kernelspec": {
      "display_name": "Python 3 (ipykernel)",
      "language": "python",
      "name": "python3"
    },
    "language_info": {
      "codemirror_mode": {
        "name": "ipython",
        "version": 3
      },
      "file_extension": ".py",
      "mimetype": "text/x-python",
      "name": "python",
      "nbconvert_exporter": "python",
      "pygments_lexer": "ipython3",
      "version": "3.8.8"
    }
  },
  "nbformat": 4,
  "nbformat_minor": 5
}